{
  "nbformat": 4,
  "nbformat_minor": 0,
  "metadata": {
    "colab": {
      "provenance": [],
      "authorship_tag": "ABX9TyO7lIwHk/TLng3Eg9ABlgsa",
      "include_colab_link": true
    },
    "kernelspec": {
      "name": "python3",
      "display_name": "Python 3"
    },
    "language_info": {
      "name": "python"
    }
  },
  "cells": [
    {
      "cell_type": "markdown",
      "metadata": {
        "id": "view-in-github",
        "colab_type": "text"
      },
      "source": [
        "<a href=\"https://colab.research.google.com/github/drrayislam/NLP/blob/master/_Text_Mining_Word_Frequencey_from__all_the_associated_pages.ipynb\" target=\"_parent\"><img src=\"https://colab.research.google.com/assets/colab-badge.svg\" alt=\"Open In Colab\"/></a>"
      ]
    },
    {
      "cell_type": "code",
      "execution_count": 22,
      "metadata": {
        "colab": {
          "base_uri": "https://localhost:8080/"
        },
        "id": "erYSQMme7Bwu",
        "outputId": "43bd215c-f22e-44ab-bca8-c571aa7eb66d"
      },
      "outputs": [
        {
          "output_type": "stream",
          "name": "stdout",
          "text": [
            "Requirement already satisfied: requests in /usr/local/lib/python3.10/dist-packages (2.31.0)\n",
            "Requirement already satisfied: beautifulsoup4 in /usr/local/lib/python3.10/dist-packages (4.11.2)\n",
            "Requirement already satisfied: charset-normalizer<4,>=2 in /usr/local/lib/python3.10/dist-packages (from requests) (3.2.0)\n",
            "Requirement already satisfied: idna<4,>=2.5 in /usr/local/lib/python3.10/dist-packages (from requests) (3.4)\n",
            "Requirement already satisfied: urllib3<3,>=1.21.1 in /usr/local/lib/python3.10/dist-packages (from requests) (2.0.4)\n",
            "Requirement already satisfied: certifi>=2017.4.17 in /usr/local/lib/python3.10/dist-packages (from requests) (2023.7.22)\n",
            "Requirement already satisfied: soupsieve>1.2 in /usr/local/lib/python3.10/dist-packages (from beautifulsoup4) (2.5)\n"
          ]
        }
      ],
      "source": [
        "pip install requests beautifulsoup4"
      ]
    },
    {
      "cell_type": "code",
      "source": [
        "import requests\n",
        "from bs4 import BeautifulSoup\n",
        "from collections import Counter\n",
        "from urllib.parse import urljoin"
      ],
      "metadata": {
        "id": "HCZdLk-b7N81"
      },
      "execution_count": 23,
      "outputs": []
    },
    {
      "cell_type": "code",
      "source": [
        "# Define the URL of the website you want to scrape\n",
        "base_url = 'https://www.washingtonpost.com/'\n",
        "start_url = base_url  # Starting URL"
      ],
      "metadata": {
        "id": "k_XgWhRI7TLE"
      },
      "execution_count": 24,
      "outputs": []
    },
    {
      "cell_type": "code",
      "source": [
        "# Define the specific words you want to count\n",
        "specific_words = ['hunter', 'brand']"
      ],
      "metadata": {
        "id": "Oxra3M0r7c3h"
      },
      "execution_count": 25,
      "outputs": []
    },
    {
      "cell_type": "code",
      "source": [
        "# Function to extract text and word frequency from a URL\n",
        "def extract_word_frequency(url):\n",
        "    response = requests.get(url)\n",
        "\n",
        "    if response.status_code == 200:\n",
        "        soup = BeautifulSoup(response.text, 'html.parser')\n",
        "        text = soup.get_text()\n",
        "        words = text.split()\n",
        "        words = [word.lower() for word in words]\n",
        "        word_frequency = Counter(words)\n",
        "        return word_frequency\n",
        "    else:\n",
        "        return Counter()  # Return an empty Counter if the page can't be accessed\n"
      ],
      "metadata": {
        "id": "Z2y51eiC7rvo"
      },
      "execution_count": 26,
      "outputs": []
    },
    {
      "cell_type": "code",
      "source": [
        "# Function to recursively crawl and count words on the website\n",
        "def crawl_website(url, word_frequencies):\n",
        "    visited_urls = set()  # Track visited URLs to avoid duplicates\n",
        "\n",
        "    def recursive_crawl(url):\n",
        "        if url in visited_urls:\n",
        "            return\n",
        "        visited_urls.add(url)\n",
        "\n",
        "        # Extract word frequency from the current page\n",
        "        word_frequency = extract_word_frequency(url)\n",
        "\n",
        "        # Store word frequency for the current page in the dictionary\n",
        "        word_frequencies[url] = word_frequency\n",
        "\n",
        "        # Print word frequency for the current page\n",
        "        print(f'URL: {url}')\n",
        "        for word in specific_words:\n",
        "            print(f'The word \"{word}\" appears {word_frequency[word.lower()]} times on this page.')\n",
        "\n",
        "        # Find and follow links on the current page\n",
        "        soup = BeautifulSoup(requests.get(url).text, 'html.parser')\n",
        "        for link in soup.find_all('a', href=True):\n",
        "            absolute_link = urljoin(url, link['href'])\n",
        "            if base_url in absolute_link:  # Check if the link is within the same website\n",
        "                recursive_crawl(absolute_link)\n",
        "\n",
        "    recursive_crawl(url)\n"
      ],
      "metadata": {
        "id": "bY9pcEl57xfS"
      },
      "execution_count": 27,
      "outputs": []
    },
    {
      "cell_type": "code",
      "source": [
        "# Initialize a dictionary to store word frequencies for each page\n",
        "word_frequencies = {}\n",
        "\n",
        "# Start crawling from the initial URL\n",
        "crawl_website(start_url, word_frequencies)\n",
        "\n",
        "# Print word frequency totals across all pages\n",
        "print(\"\\nWord Frequency Totals Across All Pages:\")\n",
        "for url, word_frequency in word_frequencies.items():\n",
        "    print(f'URL: {url}')\n",
        "    for word in specific_words:\n",
        "        print(f'Total \"{word}\" frequency: {word_frequency[word.lower()]}')\n"
      ],
      "metadata": {
        "colab": {
          "base_uri": "https://localhost:8080/"
        },
        "id": "x82jMM7d718J",
        "outputId": "b7b380a3-396c-479f-a90b-2714b23c090e"
      },
      "execution_count": null,
      "outputs": [
        {
          "output_type": "stream",
          "name": "stdout",
          "text": [
            "URL: https://www.washingtonpost.com/\n",
            "The word \"hunter\" appears 2 times on this page.\n",
            "The word \"brand\" appears 2 times on this page.\n",
            "URL: https://www.washingtonpost.com/accessibility\n",
            "The word \"hunter\" appears 0 times on this page.\n",
            "The word \"brand\" appears 0 times on this page.\n"
          ]
        }
      ]
    }
  ]
}