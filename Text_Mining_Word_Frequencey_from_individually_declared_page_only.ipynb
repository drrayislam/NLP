{
  "nbformat": 4,
  "nbformat_minor": 0,
  "metadata": {
    "colab": {
      "provenance": [],
      "authorship_tag": "ABX9TyMGv1qGKCsIXV09z6BytNhu",
      "include_colab_link": true
    },
    "kernelspec": {
      "name": "python3",
      "display_name": "Python 3"
    },
    "language_info": {
      "name": "python"
    }
  },
  "cells": [
    {
      "cell_type": "markdown",
      "metadata": {
        "id": "view-in-github",
        "colab_type": "text"
      },
      "source": [
        "<a href=\"https://colab.research.google.com/github/drrayislam/NLP/blob/master/Text_Mining_Word_Frequencey_from_individually_declared_page_only.ipynb\" target=\"_parent\"><img src=\"https://colab.research.google.com/assets/colab-badge.svg\" alt=\"Open In Colab\"/></a>"
      ]
    },
    {
      "cell_type": "code",
      "execution_count": 23,
      "metadata": {
        "colab": {
          "base_uri": "https://localhost:8080/"
        },
        "id": "JXfJ4CvUyAA6",
        "outputId": "4517a23b-5da7-417c-b093-730117a3688a"
      },
      "outputs": [
        {
          "output_type": "stream",
          "name": "stdout",
          "text": [
            "Requirement already satisfied: requests in /usr/local/lib/python3.10/dist-packages (2.31.0)\n",
            "Requirement already satisfied: beautifulsoup4 in /usr/local/lib/python3.10/dist-packages (4.11.2)\n",
            "Requirement already satisfied: charset-normalizer<4,>=2 in /usr/local/lib/python3.10/dist-packages (from requests) (3.2.0)\n",
            "Requirement already satisfied: idna<4,>=2.5 in /usr/local/lib/python3.10/dist-packages (from requests) (3.4)\n",
            "Requirement already satisfied: urllib3<3,>=1.21.1 in /usr/local/lib/python3.10/dist-packages (from requests) (2.0.4)\n",
            "Requirement already satisfied: certifi>=2017.4.17 in /usr/local/lib/python3.10/dist-packages (from requests) (2023.7.22)\n",
            "Requirement already satisfied: soupsieve>1.2 in /usr/local/lib/python3.10/dist-packages (from beautifulsoup4) (2.5)\n"
          ]
        }
      ],
      "source": [
        "pip install requests beautifulsoup4"
      ]
    },
    {
      "cell_type": "code",
      "source": [
        "# import libraries\n",
        "import requests\n",
        "from bs4 import BeautifulSoup\n",
        "from collections import Counter"
      ],
      "metadata": {
        "id": "upnIOeTdzV9i"
      },
      "execution_count": 34,
      "outputs": []
    },
    {
      "cell_type": "code",
      "source": [
        "# Define the URL of the website you want to scrape\n",
        "url = 'https://www.washingtonpost.com/'"
      ],
      "metadata": {
        "id": "CO71wT5CzeTD"
      },
      "execution_count": 35,
      "outputs": []
    },
    {
      "cell_type": "code",
      "source": [
        "# Define the specific words you want to count\n",
        "specific_words = ['food', 'industry']"
      ],
      "metadata": {
        "id": "5Qq-EAxEzj4y"
      },
      "execution_count": 36,
      "outputs": []
    },
    {
      "cell_type": "code",
      "source": [
        "# Send an HTTP GET request to the URL\n",
        "response = requests.get(url)"
      ],
      "metadata": {
        "id": "ynMMNRwsz1CG"
      },
      "execution_count": 37,
      "outputs": []
    },
    {
      "cell_type": "code",
      "source": [
        "# Check if the request was successful (status code 200)\n",
        "if response.status_code == 200:\n",
        "    # Parse the HTML content of the page\n",
        "    soup = BeautifulSoup(response.text, 'html.parser')\n",
        "\n",
        "    # Extract text content from the HTML\n",
        "    text = soup.get_text()\n",
        "\n",
        "    # Tokenize the text (split it into words)\n",
        "    words = text.split()\n",
        "\n",
        "    # Convert all words to lowercase for case-insensitive counting\n",
        "    words = [word.lower() for word in words]\n",
        "\n",
        "    # Calculate the frequency of specific words\n",
        "    word_frequency = Counter(words)\n",
        "\n",
        "    # Print the frequency of specific words\n",
        "    for word in specific_words:\n",
        "        print(f'The word \"{word}\" appears {word_frequency[word.lower()]} times.')\n",
        "\n",
        "else:\n",
        "    print(f'Failed to retrieve the webpage. Status code: {response.status_code}')\n"
      ],
      "metadata": {
        "colab": {
          "base_uri": "https://localhost:8080/"
        },
        "id": "NOGnRqJW0WWp",
        "outputId": "731837e6-1148-4c00-ba9c-ee83adc2248e"
      },
      "execution_count": 38,
      "outputs": [
        {
          "output_type": "stream",
          "name": "stdout",
          "text": [
            "The word \"food\" appears 2 times.\n",
            "The word \"industry\" appears 1 times.\n"
          ]
        }
      ]
    },
    {
      "cell_type": "code",
      "source": [],
      "metadata": {
        "id": "vGnFrpfS6_BK"
      },
      "execution_count": null,
      "outputs": []
    }
  ]
}